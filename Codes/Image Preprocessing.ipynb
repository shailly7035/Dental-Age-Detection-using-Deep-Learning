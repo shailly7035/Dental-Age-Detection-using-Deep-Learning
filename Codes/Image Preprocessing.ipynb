{
 "cells": [
  {
   "cell_type": "code",
   "execution_count": 716,
   "metadata": {},
   "outputs": [],
   "source": [
    "import numpy as np\n",
    "import cv2\n",
    "from matplotlib import pyplot as plt\n",
    "import math"
   ]
  },
  {
   "cell_type": "code",
   "execution_count": 717,
   "metadata": {
    "scrolled": true
   },
   "outputs": [],
   "source": [
    "image = cv2.imread(\"inverted.jpg\",0)\n",
    "rows = image.shape[0]#1248\n",
    "columns = image.shape[1]#2624"
   ]
  },
  {
   "cell_type": "code",
   "execution_count": 718,
   "metadata": {},
   "outputs": [],
   "source": [
    "def getHorizontalProjectionProfile(image):  \n",
    "    image[image == 0]   = 0 \n",
    "    image[image == 255] = 1\n",
    "    horizontal_projection = np.sum(image, axis = 1)  \n",
    "    return horizontal_projection"
   ]
  },
  {
   "cell_type": "code",
   "execution_count": 719,
   "metadata": {},
   "outputs": [],
   "source": [
    "def find_first(item, vec):\n",
    "    for i in range(0,len(vec)):\n",
    "        if item == vec[i]:\n",
    "            return i\n",
    "    return -1"
   ]
  },
  {
   "cell_type": "code",
   "execution_count": 720,
   "metadata": {},
   "outputs": [],
   "source": [
    "def get_points(image,points):\n",
    "    minimum = rows\n",
    "    col = 0\n",
    "    for i in range(int(columns - 1),int(columns % 10),-10):\n",
    "        temp = image[:,i-10:i]\n",
    "        horizontal_projection = getHorizontalProjectionProfile(temp.copy())\n",
    "        minimum = horizontal_projection.min()\n",
    "        #row = np.where(horizontal_projection == minimum)\n",
    "        row = find_first(minimum,horizontal_projection)\n",
    "        if minimum != 10:\n",
    "            row_no = row\n",
    "            col_no = i\n",
    "            points.append([row_no,col_no])\n",
    "    return points\n",
    "            "
   ]
  },
  {
   "cell_type": "code",
   "execution_count": 721,
   "metadata": {},
   "outputs": [],
   "source": [
    "def correct_points(points):\n",
    "    for i in range(1,len(points)):\n",
    "        y = abs(points[i][0] - points[i-1][0])\n",
    "        if y>50:\n",
    "            points[i][0] = points[i-1][0] \n",
    "    return points"
   ]
  },
  {
   "cell_type": "code",
   "execution_count": 722,
   "metadata": {},
   "outputs": [],
   "source": [
    "def plot_points(image,points):\n",
    "    color = 255\n",
    "    for i,j in points:\n",
    "        image[i][j]=color\n",
    "        image[i+1][j] = color\n",
    "        image[i][j+1] = color\n",
    "        image[i+1][j+1] = color\n",
    "    cv2.imwrite(\"points.jpg\",image)"
   ]
  },
  {
   "cell_type": "code",
   "execution_count": 723,
   "metadata": {},
   "outputs": [],
   "source": [
    "points = list()\n",
    "points = get_points(image.copy(),points)\n",
    "points = correct_points(points)\n",
    "plot_points(image.copy(),points)"
   ]
  },
  {
   "cell_type": "code",
   "execution_count": null,
   "metadata": {},
   "outputs": [],
   "source": []
  }
 ],
 "metadata": {
  "kernelspec": {
   "display_name": "Python 3",
   "language": "python",
   "name": "python3"
  },
  "language_info": {
   "codemirror_mode": {
    "name": "ipython",
    "version": 3
   },
   "file_extension": ".py",
   "mimetype": "text/x-python",
   "name": "python",
   "nbconvert_exporter": "python",
   "pygments_lexer": "ipython3",
   "version": "3.7.6"
  }
 },
 "nbformat": 4,
 "nbformat_minor": 2
}
